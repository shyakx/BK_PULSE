{
 "cells": [
  {
   "cell_type": "markdown",
   "metadata": {},
   "source": [
    "# BK Pulse - Customer Churn Prediction Demo\n",
    "\n",
    "This notebook demonstrates the BK Pulse churn prediction system for Bank of Kigali.\n",
    "\n",
    "## Mission Capstone Project - ALU Rwanda"
   ]
  },
  {
   "cell_type": "markdown",
   "metadata": {},
   "source": [
    "## 1. Setup and Imports"
   ]
  },
  {
   "cell_type": "code",
   "execution_count": null,
   "metadata": {},
   "outputs": [],
   "source": [
    "import sys\n",
    "import os\n",
    "\n",
    "# Add parent directory to path\n",
    "sys.path.append('..')\n",
    "\n",
    "import pandas as pd\n",
    "import numpy as np\n",
    "import matplotlib.pyplot as plt\n",
    "import seaborn as sns\n",
    "\n",
    "from src.data.data_loader import DataLoader\n",
    "from src.data.preprocessor import DataPreprocessor\n",
    "from src.models.churn_model import ChurnPredictor\n",
    "from src.utils.config_loader import load_config\n",
    "from src.utils.visualization import (\n",
    "    plot_confusion_matrix, plot_roc_curve, \n",
    "    plot_feature_importance, plot_churn_distribution\n",
    ")\n",
    "\n",
    "# Set display options\n",
    "pd.set_option('display.max_columns', None)\n",
    "plt.style.use('seaborn-v0_8-darkgrid')\n",
    "\n",
    "print(\"✅ Imports successful!\")"
   ]
  },
  {
   "cell_type": "markdown",
   "metadata": {},
   "source": [
    "## 2. Load Configuration"
   ]
  },
  {
   "cell_type": "code",
   "execution_count": null,
   "metadata": {},
   "outputs": [],
   "source": [
    "config = load_config('../config.yaml')\n",
    "print(\"Configuration loaded:\")\n",
    "print(f\"Algorithm: {config['model']['algorithm']}\")\n",
    "print(f\"Test size: {config['model']['test_size']}\")\n",
    "print(f\"Handle imbalance: {config['model']['handle_imbalance']}\")"
   ]
  },
  {
   "cell_type": "markdown",
   "metadata": {},
   "source": [
    "## 3. Generate Sample Data\n",
    "\n",
    "Since we may not have real customer data, we'll generate synthetic data that mimics Bank of Kigali customer characteristics."
   ]
  },
  {
   "cell_type": "code",
   "execution_count": null,
   "metadata": {},
   "outputs": [],
   "source": [
    "# Generate sample data\n",
    "loader = DataLoader('../data/raw/customer_data.csv')\n",
    "df = loader.generate_sample_data(n_samples=1000)\n",
    "\n",
    "print(f\"Generated {len(df)} customer records\")\n",
    "print(f\"\\nChurn rate: {df['churn'].mean():.2%}\")\n",
    "df.head()"
   ]
  },
  {
   "cell_type": "markdown",
   "metadata": {},
   "source": [
    "## 4. Exploratory Data Analysis"
   ]
  },
  {
   "cell_type": "code",
   "execution_count": null,
   "metadata": {},
   "outputs": [],
   "source": [
    "# Data summary\n",
    "print(\"Data Summary:\")\n",
    "print(df.describe())"
   ]
  },
  {
   "cell_type": "code",
   "execution_count": null,
   "metadata": {},
   "outputs": [],
   "source": [
    "# Visualize churn distribution\n",
    "plot_churn_distribution(df)"
   ]
  },
  {
   "cell_type": "code",
   "execution_count": null,
   "metadata": {},
   "outputs": [],
   "source": [
    "# Correlation analysis\n",
    "plt.figure(figsize=(12, 10))\n",
    "numeric_cols = df.select_dtypes(include=[np.number]).columns\n",
    "correlation = df[numeric_cols].corr()\n",
    "sns.heatmap(correlation, annot=False, cmap='coolwarm', center=0)\n",
    "plt.title('Feature Correlation Matrix')\n",
    "plt.tight_layout()\n",
    "plt.show()"
   ]
  },
  {
   "cell_type": "markdown",
   "metadata": {},
   "source": [
    "## 5. Data Preprocessing"
   ]
  },
  {
   "cell_type": "code",
   "execution_count": null,
   "metadata": {},
   "outputs": [],
   "source": [
    "# Initialize preprocessor\n",
    "preprocessor = DataPreprocessor(config)\n",
    "\n",
    "# Preprocess data\n",
    "df_processed = preprocessor.preprocess(df, fit=True)\n",
    "\n",
    "print(f\"Processed data shape: {df_processed.shape}\")\n",
    "print(f\"Features created: {preprocessor.feature_names}\")"
   ]
  },
  {
   "cell_type": "code",
   "execution_count": null,
   "metadata": {},
   "outputs": [],
   "source": [
    "# Split data\n",
    "X_train, X_test, y_train, y_test = preprocessor.split_data(\n",
    "    df_processed,\n",
    "    test_size=config['model']['test_size'],\n",
    "    random_state=config['model']['random_state']\n",
    ")\n",
    "\n",
    "print(f\"Training set size: {len(X_train)}\")\n",
    "print(f\"Test set size: {len(X_test)}\")\n",
    "print(f\"Train churn rate: {y_train.mean():.2%}\")\n",
    "print(f\"Test churn rate: {y_test.mean():.2%}\")"
   ]
  },
  {
   "cell_type": "markdown",
   "metadata": {},
   "source": [
    "## 6. Model Training"
   ]
  },
  {
   "cell_type": "code",
   "execution_count": null,
   "metadata": {},
   "outputs": [],
   "source": [
    "# Initialize model\n",
    "model = ChurnPredictor(config)\n",
    "\n",
    "# Train model\n",
    "print(\"Training model...\")\n",
    "train_metrics = model.train(X_train, y_train, X_test, y_test)\n",
    "\n",
    "print(f\"\\nCross-validation score: {train_metrics['cv_mean_score']:.4f} (+/- {train_metrics['cv_std_score']:.4f})\")"
   ]
  },
  {
   "cell_type": "code",
   "execution_count": null,
   "metadata": {},
   "outputs": [],
   "source": [
    "# Optimize threshold\n",
    "best_threshold = model.optimize_threshold(X_test, y_test)\n",
    "print(f\"Optimal classification threshold: {best_threshold:.2f}\")"
   ]
  },
  {
   "cell_type": "markdown",
   "metadata": {},
   "source": [
    "## 7. Model Evaluation"
   ]
  },
  {
   "cell_type": "code",
   "execution_count": null,
   "metadata": {},
   "outputs": [],
   "source": [
    "# Evaluate model\n",
    "metrics = model.evaluate(X_test, y_test)\n",
    "\n",
    "print(\"Model Performance:\")\n",
    "print(f\"Accuracy:  {metrics['accuracy']:.4f}\")\n",
    "print(f\"Precision: {metrics['precision']:.4f}\")\n",
    "print(f\"Recall:    {metrics['recall']:.4f}\")\n",
    "print(f\"F1 Score:  {metrics['f1_score']:.4f}\")\n",
    "print(f\"ROC AUC:   {metrics['roc_auc']:.4f}\")"
   ]
  },
  {
   "cell_type": "code",
   "execution_count": null,
   "metadata": {},
   "outputs": [],
   "source": [
    "# Confusion Matrix\n",
    "y_pred = model.predict(X_test)\n",
    "plot_confusion_matrix(y_test, y_pred)"
   ]
  },
  {
   "cell_type": "code",
   "execution_count": null,
   "metadata": {},
   "outputs": [],
   "source": [
    "# ROC Curve\n",
    "y_proba = model.predict_proba(X_test)\n",
    "plot_roc_curve(y_test, y_proba)"
   ]
  },
  {
   "cell_type": "markdown",
   "metadata": {},
   "source": [
    "## 8. Feature Importance Analysis"
   ]
  },
  {
   "cell_type": "code",
   "execution_count": null,
   "metadata": {},
   "outputs": [],
   "source": [
    "# Get feature importance\n",
    "importance_df = model.get_feature_importance()\n",
    "\n",
    "if not importance_df.empty:\n",
    "    print(\"Top 10 Most Important Features:\")\n",
    "    print(importance_df.head(10))\n",
    "    \n",
    "    # Visualize\n",
    "    plot_feature_importance(importance_df, top_n=15)\n",
    "else:\n",
    "    print(\"Feature importance not available for this model type.\")"
   ]
  },
  {
   "cell_type": "markdown",
   "metadata": {},
   "source": [
    "## 9. Making Predictions\n",
    "\n",
    "### Single Customer Prediction"
   ]
  },
  {
   "cell_type": "code",
   "execution_count": null,
   "metadata": {},
   "outputs": [],
   "source": [
    "# Example: High-risk customer\n",
    "high_risk_customer = pd.DataFrame([{\n",
    "    'age': 45,\n",
    "    'gender': 'M',\n",
    "    'location': 'Kigali',\n",
    "    'account_balance': 30000,  # Low balance\n",
    "    'account_age_months': 36,\n",
    "    'number_of_products': 1,  # Only one product\n",
    "    'has_credit_card': 0,  # No credit card\n",
    "    'has_mobile_banking': 0,  # No mobile banking\n",
    "    'avg_monthly_transactions': 3,  # Low activity\n",
    "    'total_transaction_amount': 100000,\n",
    "    'transaction_frequency': 5,\n",
    "    'days_since_last_login': 250,  # Long time since login\n",
    "    'customer_service_calls': 8,  # Many calls\n",
    "    'complaints_filed': 4  # Multiple complaints\n",
    "}])\n",
    "\n",
    "# Preprocess\n",
    "customer_processed = preprocessor.preprocess(high_risk_customer, fit=False)\n",
    "feature_cols = [col for col in customer_processed.columns if col not in ['churn', 'customer_id']]\n",
    "X_customer = customer_processed[feature_cols]\n",
    "\n",
    "# Predict\n",
    "churn_prob = model.predict_proba(X_customer)[0]\n",
    "churn_pred = model.predict(X_customer)[0]\n",
    "\n",
    "print(\"High-Risk Customer Profile:\")\n",
    "print(f\"Churn Prediction: {'Yes' if churn_pred else 'No'}\")\n",
    "print(f\"Churn Probability: {churn_prob:.2%}\")\n",
    "print(f\"Risk Level: {'High' if churn_prob > 0.7 else 'Medium' if churn_prob > 0.4 else 'Low'}\")"
   ]
  },
  {
   "cell_type": "code",
   "execution_count": null,
   "metadata": {},
   "outputs": [],
   "source": [
    "# Example: Low-risk customer\n",
    "low_risk_customer = pd.DataFrame([{\n",
    "    'age': 32,\n",
    "    'gender': 'F',\n",
    "    'location': 'Kigali',\n",
    "    'account_balance': 800000,  # High balance\n",
    "    'account_age_months': 48,\n",
    "    'number_of_products': 4,  # Multiple products\n",
    "    'has_credit_card': 1,  # Has credit card\n",
    "    'has_mobile_banking': 1,  # Uses mobile banking\n",
    "    'avg_monthly_transactions': 25,  # Active\n",
    "    'total_transaction_amount': 2000000,\n",
    "    'transaction_frequency': 35,\n",
    "    'days_since_last_login': 2,  # Recent login\n",
    "    'customer_service_calls': 1,  # Few calls\n",
    "    'complaints_filed': 0  # No complaints\n",
    "}])\n",
    "\n",
    "# Preprocess and predict\n",
    "customer_processed = preprocessor.preprocess(low_risk_customer, fit=False)\n",
    "X_customer = customer_processed[feature_cols]\n",
    "\n",
    "churn_prob = model.predict_proba(X_customer)[0]\n",
    "churn_pred = model.predict(X_customer)[0]\n",
    "\n",
    "print(\"Low-Risk Customer Profile:\")\n",
    "print(f\"Churn Prediction: {'Yes' if churn_pred else 'No'}\")\n",
    "print(f\"Churn Probability: {churn_prob:.2%}\")\n",
    "print(f\"Risk Level: {'High' if churn_prob > 0.7 else 'Medium' if churn_prob > 0.4 else 'Low'}\")"
   ]
  },
  {
   "cell_type": "markdown",
   "metadata": {},
   "source": [
    "## 10. Batch Predictions - Risk Segmentation"
   ]
  },
  {
   "cell_type": "code",
   "execution_count": null,
   "metadata": {},
   "outputs": [],
   "source": [
    "# Get predictions for all test customers\n",
    "test_probabilities = model.predict_proba(X_test)\n",
    "test_predictions = model.predict(X_test)\n",
    "\n",
    "# Create results dataframe\n",
    "results_df = pd.DataFrame({\n",
    "    'actual_churn': y_test.values,\n",
    "    'predicted_churn': test_predictions,\n",
    "    'churn_probability': test_probabilities,\n",
    "    'risk_level': ['High' if p > 0.7 else 'Medium' if p > 0.4 else 'Low' for p in test_probabilities]\n",
    "})\n",
    "\n",
    "# Risk distribution\n",
    "print(\"Customer Risk Distribution:\")\n",
    "print(results_df['risk_level'].value_counts())\n",
    "print(f\"\\nHigh Risk: {(results_df['risk_level'] == 'High').sum()} customers\")\n",
    "print(f\"Medium Risk: {(results_df['risk_level'] == 'Medium').sum()} customers\")\n",
    "print(f\"Low Risk: {(results_df['risk_level'] == 'Low').sum()} customers\")"
   ]
  },
  {
   "cell_type": "code",
   "execution_count": null,
   "metadata": {},
   "outputs": [],
   "source": [
    "# Visualize risk distribution\n",
    "plt.figure(figsize=(10, 6))\n",
    "risk_counts = results_df['risk_level'].value_counts()\n",
    "colors = {'High': 'red', 'Medium': 'orange', 'Low': 'green'}\n",
    "plt.bar(risk_counts.index, risk_counts.values, \n",
    "        color=[colors[x] for x in risk_counts.index])\n",
    "plt.title('Customer Risk Level Distribution')\n",
    "plt.xlabel('Risk Level')\n",
    "plt.ylabel('Number of Customers')\n",
    "plt.grid(axis='y', alpha=0.3)\n",
    "plt.show()"
   ]
  },
  {
   "cell_type": "markdown",
   "metadata": {},
   "source": [
    "## 11. Actionable Insights for Bank of Kigali\n",
    "\n",
    "### Retention Strategy Recommendations"
   ]
  },
  {
   "cell_type": "code",
   "execution_count": null,
   "metadata": {},
   "outputs": [],
   "source": [
    "# High-risk customers requiring immediate action\n",
    "high_risk_customers = results_df[results_df['risk_level'] == 'High']\n",
    "high_risk_actual_churn = high_risk_customers['actual_churn'].mean()\n",
    "\n",
    "print(\"=\" * 60)\n",
    "print(\"ACTIONABLE INSIGHTS FOR BANK OF KIGALI\")\n",
    "print(\"=\" * 60)\n",
    "print(f\"\\n1. HIGH-RISK CUSTOMERS: {len(high_risk_customers)}\")\n",
    "print(f\"   - Actual churn rate: {high_risk_actual_churn:.2%}\")\n",
    "print(\"   - Action: Immediate intervention required\")\n",
    "print(\"   - Strategy: Personal call from relationship manager\")\n",
    "print(\"   - Offer: Premium service upgrade or special retention bonus\")\n",
    "\n",
    "medium_risk_customers = results_df[results_df['risk_level'] == 'Medium']\n",
    "print(f\"\\n2. MEDIUM-RISK CUSTOMERS: {len(medium_risk_customers)}\")\n",
    "print(\"   - Action: Proactive engagement within 2 weeks\")\n",
    "print(\"   - Strategy: Personalized email with service improvements\")\n",
    "print(\"   - Offer: Fee waiver or loyalty rewards\")\n",
    "\n",
    "low_risk_customers = results_df[results_df['risk_level'] == 'Low']\n",
    "print(f\"\\n3. LOW-RISK CUSTOMERS: {len(low_risk_customers)}\")\n",
    "print(\"   - Action: Standard engagement and satisfaction monitoring\")\n",
    "print(\"   - Strategy: Continue excellent service\")\n",
    "print(\"   - Opportunity: Cross-sell additional products\")\n",
    "\n",
    "print(\"\\n\" + \"=\" * 60)"
   ]
  },
  {
   "cell_type": "markdown",
   "metadata": {},
   "source": [
    "## 12. Save Model and Artifacts"
   ]
  },
  {
   "cell_type": "code",
   "execution_count": null,
   "metadata": {},
   "outputs": [],
   "source": [
    "# Save model\n",
    "model.save_model('../data/models/churn_model.joblib')\n",
    "print(\"✅ Model saved successfully!\")\n",
    "\n",
    "# Save preprocessor\n",
    "preprocessor.save_preprocessor('../data/models/scaler.joblib')\n",
    "print(\"✅ Preprocessor saved successfully!\")\n",
    "\n",
    "# Save predictions\n",
    "results_df.to_csv('../data/processed/test_predictions.csv', index=False)\n",
    "print(\"✅ Predictions saved successfully!\")"
   ]
  },
  {
   "cell_type": "markdown",
   "metadata": {},
   "source": [
    "## Conclusion\n",
    "\n",
    "This notebook demonstrated the BK Pulse customer churn prediction system:\n",
    "\n",
    "1. ✅ Generated synthetic customer data\n",
    "2. ✅ Performed exploratory data analysis\n",
    "3. ✅ Preprocessed and engineered features\n",
    "4. ✅ Trained machine learning model\n",
    "5. ✅ Evaluated model performance\n",
    "6. ✅ Analyzed feature importance\n",
    "7. ✅ Made predictions and segmented customers by risk\n",
    "8. ✅ Provided actionable retention strategies\n",
    "\n",
    "The system can now be deployed as an API or integrated into Bank of Kigali's systems for real-time churn prediction and proactive customer retention.\n",
    "\n",
    "---\n",
    "\n",
    "**Mission Capstone Project - ALU Rwanda**  \n",
    "**Bank of Kigali Customer Retention Initiative**"
   ]
  }
 ],
 "metadata": {
  "kernelspec": {
   "display_name": "Python 3",
   "language": "python",
   "name": "python3"
  },
  "language_info": {
   "codemirror_mode": {
    "name": "ipython",
    "version": 3
   },
   "file_extension": ".py",
   "mimetype": "text/x-python",
   "name": "python",
   "nbconvert_exporter": "python",
   "pygments_lexer": "ipython3",
   "version": "3.8.0"
  }
 },
 "nbformat": 4,
 "nbformat_minor": 4
}
